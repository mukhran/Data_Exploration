{
 "cells": [
  {
   "cell_type": "markdown",
   "id": "3eca59db",
   "metadata": {},
   "source": [
    "**Data Description**\n",
    "You are given state-specific data on the relative frequency of given names in the population of U.S. births where the individual has a Social Security Number (Tabulated based on Social Security records as of March 6, 2022)\n",
    "\n",
    "For each of the 50 states and the District of Columbia we created a file called SC.txt, where SC is the state's postal abbreviation.\n",
    "\n",
    "*Each record in a file has the format: 2-digit state code, sex (M = male or F = female), 4-digit year of birth (starting with 1910), the 2-15 character name, and the number of occurrences of the name.* Fields are delimited with a comma. Each file is sorted first on sex, then year of birth, and then on number of occurrences in descending order. When there is a tie on the number of occurrences names are listed in alphabetical order. This sorting makes it easy to determine a name's rank. The first record for each sex & year of birth has rank 1, the second record has rank 2, and so forth.\n",
    "\n",
    "To safeguard privacy, we restrict our list of names to those with at least 5 occurrences. If a name has less than 5 occurrences for a year of birth in any state, the sum of the state counts for that year will be less than the national count."
   ]
  },
  {
   "cell_type": "code",
   "execution_count": 69,
   "id": "46b449da",
   "metadata": {},
   "outputs": [],
   "source": [
    "import pandas as pd\n",
    "import glob\n",
    "import matplotlib.pyplot as plt\n"
   ]
  },
  {
   "cell_type": "code",
   "execution_count": 70,
   "id": "269aaa2d",
   "metadata": {},
   "outputs": [],
   "source": [
    "# Get a list of all the .txt files in the directory\n",
    "txt_files = glob.glob(\"datasets/*.TXT\")\n"
   ]
  },
  {
   "cell_type": "code",
   "execution_count": 71,
   "id": "72592e19",
   "metadata": {},
   "outputs": [],
   "source": [
    "#2-digit state code, \n",
    "#sex (M = male or F = female), \n",
    "#4-digit year of birth (starting with 1910), \n",
    "#the 2-15 character name, \n",
    "#and the number of occurrences of the name."
   ]
  },
  {
   "cell_type": "code",
   "execution_count": 72,
   "id": "cb043c0b",
   "metadata": {},
   "outputs": [],
   "source": [
    "# Read each .txt file into a Pandas DataFrame\n",
    "dfs = []\n",
    "for file in txt_files:\n",
    "    df = pd.read_csv(file, names = [\"State\", \"Gender\", \"YOB\", \"Name\", \"Occurances\"] )\n",
    "    dfs.append(df)"
   ]
  },
  {
   "cell_type": "code",
   "execution_count": 73,
   "id": "6eb26f52",
   "metadata": {},
   "outputs": [],
   "source": [
    "# Concatenate the DataFrames into a single DataFrame\n",
    "df = pd.concat(dfs)"
   ]
  },
  {
   "cell_type": "code",
   "execution_count": 74,
   "id": "10c7febc",
   "metadata": {},
   "outputs": [
    {
     "data": {
      "text/html": [
       "<div>\n",
       "<style scoped>\n",
       "    .dataframe tbody tr th:only-of-type {\n",
       "        vertical-align: middle;\n",
       "    }\n",
       "\n",
       "    .dataframe tbody tr th {\n",
       "        vertical-align: top;\n",
       "    }\n",
       "\n",
       "    .dataframe thead th {\n",
       "        text-align: right;\n",
       "    }\n",
       "</style>\n",
       "<table border=\"1\" class=\"dataframe\">\n",
       "  <thead>\n",
       "    <tr style=\"text-align: right;\">\n",
       "      <th></th>\n",
       "      <th>State</th>\n",
       "      <th>Gender</th>\n",
       "      <th>YOB</th>\n",
       "      <th>Name</th>\n",
       "      <th>Occurances</th>\n",
       "    </tr>\n",
       "  </thead>\n",
       "  <tbody>\n",
       "    <tr>\n",
       "      <th>0</th>\n",
       "      <td>IN</td>\n",
       "      <td>F</td>\n",
       "      <td>1910</td>\n",
       "      <td>Mary</td>\n",
       "      <td>619</td>\n",
       "    </tr>\n",
       "    <tr>\n",
       "      <th>1</th>\n",
       "      <td>IN</td>\n",
       "      <td>F</td>\n",
       "      <td>1910</td>\n",
       "      <td>Helen</td>\n",
       "      <td>324</td>\n",
       "    </tr>\n",
       "    <tr>\n",
       "      <th>2</th>\n",
       "      <td>IN</td>\n",
       "      <td>F</td>\n",
       "      <td>1910</td>\n",
       "      <td>Ruth</td>\n",
       "      <td>238</td>\n",
       "    </tr>\n",
       "    <tr>\n",
       "      <th>3</th>\n",
       "      <td>IN</td>\n",
       "      <td>F</td>\n",
       "      <td>1910</td>\n",
       "      <td>Dorothy</td>\n",
       "      <td>215</td>\n",
       "    </tr>\n",
       "    <tr>\n",
       "      <th>4</th>\n",
       "      <td>IN</td>\n",
       "      <td>F</td>\n",
       "      <td>1910</td>\n",
       "      <td>Mildred</td>\n",
       "      <td>200</td>\n",
       "    </tr>\n",
       "  </tbody>\n",
       "</table>\n",
       "</div>"
      ],
      "text/plain": [
       "  State Gender   YOB     Name  Occurances\n",
       "0    IN      F  1910     Mary         619\n",
       "1    IN      F  1910    Helen         324\n",
       "2    IN      F  1910     Ruth         238\n",
       "3    IN      F  1910  Dorothy         215\n",
       "4    IN      F  1910  Mildred         200"
      ]
     },
     "execution_count": 74,
     "metadata": {},
     "output_type": "execute_result"
    }
   ],
   "source": [
    "df.head()"
   ]
  },
  {
   "cell_type": "code",
   "execution_count": 75,
   "id": "790d3223",
   "metadata": {},
   "outputs": [
    {
     "data": {
      "text/plain": [
       "(6311504, 5)"
      ]
     },
     "execution_count": 75,
     "metadata": {},
     "output_type": "execute_result"
    }
   ],
   "source": [
    "df.shape"
   ]
  },
  {
   "cell_type": "code",
   "execution_count": 76,
   "id": "159fd74d",
   "metadata": {},
   "outputs": [
    {
     "data": {
      "text/plain": [
       "array(['IN', 'IL', 'KS', 'SC', 'HI', 'GA', 'SD', 'CO', 'NH', 'MS', 'MD',\n",
       "       'UT', 'LA', 'ME', 'WI', 'NJ', 'AR', 'NY', 'MT', 'OK', 'MA', 'NM',\n",
       "       'WY', 'OH', 'OR', 'NV', 'TX', 'TN', 'AZ', 'MN', 'WA', 'WV', 'NC',\n",
       "       'MO', 'AL', 'VA', 'CA', 'CT', 'AK', 'ND', 'VT', 'MI', 'NE', 'KY',\n",
       "       'ID', 'DC', 'IA', 'FL', 'PA', 'RI', 'DE'], dtype=object)"
      ]
     },
     "execution_count": 76,
     "metadata": {},
     "output_type": "execute_result"
    }
   ],
   "source": [
    "#unique states\n",
    "states = df[\"State\"].unique()\n",
    "states"
   ]
  },
  {
   "cell_type": "code",
   "execution_count": 77,
   "id": "1eb203d8",
   "metadata": {},
   "outputs": [
    {
     "name": "stdout",
     "output_type": "stream",
     "text": [
      "51\n"
     ]
    }
   ],
   "source": [
    "total = sum(1 for i in states if i)\n",
    "print(total)"
   ]
  },
  {
   "cell_type": "code",
   "execution_count": 78,
   "id": "9ae06716",
   "metadata": {},
   "outputs": [
    {
     "name": "stdout",
     "output_type": "stream",
     "text": [
      "<class 'pandas.core.frame.DataFrame'>\n",
      "Int64Index: 6311504 entries, 0 to 33705\n",
      "Data columns (total 5 columns):\n",
      " #   Column      Dtype \n",
      "---  ------      ----- \n",
      " 0   State       object\n",
      " 1   Gender      object\n",
      " 2   YOB         int64 \n",
      " 3   Name        object\n",
      " 4   Occurances  int64 \n",
      "dtypes: int64(2), object(3)\n",
      "memory usage: 288.9+ MB\n"
     ]
    }
   ],
   "source": [
    "df.info()"
   ]
  },
  {
   "cell_type": "code",
   "execution_count": 79,
   "id": "0c05e518",
   "metadata": {},
   "outputs": [
    {
     "data": {
      "text/plain": [
       "State         6311504\n",
       "Gender        6311504\n",
       "YOB           6311504\n",
       "Name          6311504\n",
       "Occurances    6311504\n",
       "dtype: int64"
      ]
     },
     "execution_count": 79,
     "metadata": {},
     "output_type": "execute_result"
    }
   ],
   "source": [
    "#identify incomplet rows\n",
    "df.count()"
   ]
  },
  {
   "cell_type": "code",
   "execution_count": 80,
   "id": "6499d8e3",
   "metadata": {},
   "outputs": [
    {
     "data": {
      "text/plain": [
       "State         0\n",
       "Gender        0\n",
       "YOB           0\n",
       "Name          0\n",
       "Occurances    0\n",
       "dtype: int64"
      ]
     },
     "execution_count": 80,
     "metadata": {},
     "output_type": "execute_result"
    }
   ],
   "source": [
    "# Check for missing values\n",
    "missing_values = df.isna().sum()\n",
    "missing_values"
   ]
  },
  {
   "cell_type": "markdown",
   "id": "3dac8961",
   "metadata": {},
   "source": [
    "**Descriptive analysis**\n",
    "\n",
    "Please describe the format of the data files. Can you identify any limitations or distortions of the data?\n",
    "What is the most popular name of all time? (Of either gender.)\n",
    "What is the most gender ambiguous name in 2013? 1945?\n",
    "Of the names represented in the data, find the name that has had the largest percentage increase in popularity since 1980. Largest decrease?\n",
    "Can you identify names that may have had an even larger increase or decrease in popularity?\n",
    "\n",
    "**Onward to Insight**\n",
    "\n",
    "What insight can you extract from this dataset? Feel free to combine the baby names data with other publicly available datasets or APIs, but be sure to include code for accessing any alternative data that you use.\n",
    "\n",
    "This is an open­ended question and you are free to answer as you see fit. In fact, we would love it if you find an interesting way to look at the data that we haven't thought of!\n",
    "\n",
    "Please provide us with both your code and an informative write­up of your results. The code should be in a runnable form. Do not assume that we have a copy of the data set or that we are familiar with the build procedures for your chosen language."
   ]
  },
  {
   "cell_type": "code",
   "execution_count": 81,
   "id": "4a8ab3a3",
   "metadata": {},
   "outputs": [
    {
     "data": {
      "text/plain": [
       "James        7409\n",
       "Leslie       7407\n",
       "Lee          7313\n",
       "John         7221\n",
       "Robert       7174\n",
       "             ... \n",
       "Charizma        1\n",
       "Maclean         1\n",
       "Haelee          1\n",
       "Isaid           1\n",
       "Ugochukwu       1\n",
       "Name: Name, Length: 32403, dtype: int64"
      ]
     },
     "execution_count": 81,
     "metadata": {},
     "output_type": "execute_result"
    }
   ],
   "source": [
    "#the most popular name of all time? \n",
    "df[\"Name\"].value_counts()"
   ]
  },
  {
   "cell_type": "code",
   "execution_count": 82,
   "id": "9cd64656",
   "metadata": {},
   "outputs": [
    {
     "data": {
      "text/plain": [
       "2021"
      ]
     },
     "execution_count": 82,
     "metadata": {},
     "output_type": "execute_result"
    }
   ],
   "source": [
    "df[\"YOB\"].max()"
   ]
  },
  {
   "cell_type": "code",
   "execution_count": 83,
   "id": "f5dc8b3c",
   "metadata": {},
   "outputs": [
    {
     "data": {
      "text/plain": [
       "1910"
      ]
     },
     "execution_count": 83,
     "metadata": {},
     "output_type": "execute_result"
    }
   ],
   "source": [
    "df[\"YOB\"].min()"
   ]
  },
  {
   "cell_type": "code",
   "execution_count": 87,
   "id": "f2bda38b",
   "metadata": {},
   "outputs": [
    {
     "data": {
      "image/png": "[encoded data removed]",
      "text/plain": [
       "<Figure size 432x288 with 1 Axes>"
      ]
     },
     "metadata": {},
     "output_type": "display_data"
    }
   ],
   "source": [
    "gender= df[\"Gender\"].value_counts()\n",
    "plt.title(\"Distribution of female versus male\")\n",
    "gender.plot(kind = \"pie\", autopct= \"%1.1f%%\")\n",
    "plt.show()"
   ]
  },
  {
   "cell_type": "code",
   "execution_count": 89,
   "id": "58c58079",
   "metadata": {},
   "outputs": [],
   "source": [
    "names_total = df[\"Name\"].value_counts()"
   ]
  },
  {
   "cell_type": "code",
   "execution_count": 92,
   "id": "f41bab48",
   "metadata": {},
   "outputs": [
    {
     "data": {
      "text/plain": [
       "James        7409\n",
       "Leslie       7407\n",
       "Lee          7313\n",
       "John         7221\n",
       "Robert       7174\n",
       "             ... \n",
       "Charizma        1\n",
       "Maclean         1\n",
       "Haelee          1\n",
       "Isaid           1\n",
       "Ugochukwu       1\n",
       "Name: Name, Length: 32403, dtype: int64"
      ]
     },
     "execution_count": 92,
     "metadata": {},
     "output_type": "execute_result"
    }
   ],
   "source": [
    "names_total"
   ]
  },
  {
   "cell_type": "code",
   "execution_count": 109,
   "id": "123fb1c9",
   "metadata": {},
   "outputs": [
    {
     "data": {
      "text/html": [
       "<div>\n",
       "<style scoped>\n",
       "    .dataframe tbody tr th:only-of-type {\n",
       "        vertical-align: middle;\n",
       "    }\n",
       "\n",
       "    .dataframe tbody tr th {\n",
       "        vertical-align: top;\n",
       "    }\n",
       "\n",
       "    .dataframe thead th {\n",
       "        text-align: right;\n",
       "    }\n",
       "</style>\n",
       "<table border=\"1\" class=\"dataframe\">\n",
       "  <thead>\n",
       "    <tr style=\"text-align: right;\">\n",
       "      <th></th>\n",
       "      <th>Name</th>\n",
       "      <th>Count</th>\n",
       "    </tr>\n",
       "  </thead>\n",
       "  <tbody>\n",
       "    <tr>\n",
       "      <th>0</th>\n",
       "      <td>James</td>\n",
       "      <td>7409</td>\n",
       "    </tr>\n",
       "    <tr>\n",
       "      <th>1</th>\n",
       "      <td>Leslie</td>\n",
       "      <td>7407</td>\n",
       "    </tr>\n",
       "    <tr>\n",
       "      <th>2</th>\n",
       "      <td>Lee</td>\n",
       "      <td>7313</td>\n",
       "    </tr>\n",
       "    <tr>\n",
       "      <th>3</th>\n",
       "      <td>John</td>\n",
       "      <td>7221</td>\n",
       "    </tr>\n",
       "    <tr>\n",
       "      <th>4</th>\n",
       "      <td>Robert</td>\n",
       "      <td>7174</td>\n",
       "    </tr>\n",
       "    <tr>\n",
       "      <th>...</th>\n",
       "      <td>...</td>\n",
       "      <td>...</td>\n",
       "    </tr>\n",
       "    <tr>\n",
       "      <th>32398</th>\n",
       "      <td>Charizma</td>\n",
       "      <td>1</td>\n",
       "    </tr>\n",
       "    <tr>\n",
       "      <th>32399</th>\n",
       "      <td>Maclean</td>\n",
       "      <td>1</td>\n",
       "    </tr>\n",
       "    <tr>\n",
       "      <th>32400</th>\n",
       "      <td>Haelee</td>\n",
       "      <td>1</td>\n",
       "    </tr>\n",
       "    <tr>\n",
       "      <th>32401</th>\n",
       "      <td>Isaid</td>\n",
       "      <td>1</td>\n",
       "    </tr>\n",
       "    <tr>\n",
       "      <th>32402</th>\n",
       "      <td>Ugochukwu</td>\n",
       "      <td>1</td>\n",
       "    </tr>\n",
       "  </tbody>\n",
       "</table>\n",
       "<p>32403 rows × 2 columns</p>\n",
       "</div>"
      ],
      "text/plain": [
       "            Name  Count\n",
       "0          James   7409\n",
       "1         Leslie   7407\n",
       "2            Lee   7313\n",
       "3           John   7221\n",
       "4         Robert   7174\n",
       "...          ...    ...\n",
       "32398   Charizma      1\n",
       "32399    Maclean      1\n",
       "32400     Haelee      1\n",
       "32401      Isaid      1\n",
       "32402  Ugochukwu      1\n",
       "\n",
       "[32403 rows x 2 columns]"
      ]
     },
     "execution_count": 109,
     "metadata": {},
     "output_type": "execute_result"
    }
   ],
   "source": [
    "# Create a DataFrame from the value_counts() Series\n",
    "df_names = pd.DataFrame(names_total).reset_index()\n",
    "df_names.columns = [\"Name\", \"Count\"]\n",
    "df_names\n"
   ]
  },
  {
   "cell_type": "code",
   "execution_count": 113,
   "id": "b3e612ee",
   "metadata": {},
   "outputs": [
    {
     "data": {
      "text/plain": [
       "Name     6835\n",
       "Count    6835\n",
       "dtype: int64"
      ]
     },
     "execution_count": 113,
     "metadata": {},
     "output_type": "execute_result"
    }
   ],
   "source": [
    "#not popular names\n",
    "names_1 = df_names.loc[(df_names[\"Count\"] == 1),:].count()\n",
    "names_1"
   ]
  },
  {
   "cell_type": "code",
   "execution_count": null,
   "id": "23829cb4",
   "metadata": {},
   "outputs": [],
   "source": [
    "#Out of a total of 32,403 unique names, there are 6,835 names that occur only once."
   ]
  }
 ],
 "metadata": {
  "kernelspec": {
   "display_name": "PythonData",
   "language": "python",
   "name": "pythondata"
  },
  "language_info": {
   "codemirror_mode": {
    "name": "ipython",
    "version": 3
   },
   "file_extension": ".py",
   "mimetype": "text/x-python",
   "name": "python",
   "nbconvert_exporter": "python",
   "pygments_lexer": "ipython3",
   "version": "3.7.7"
  }
 },
 "nbformat": 4,
 "nbformat_minor": 5
}
