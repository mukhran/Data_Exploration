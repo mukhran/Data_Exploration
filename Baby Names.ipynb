{
 "cells": [
  {
   "cell_type": "markdown",
   "id": "478fde0e",
   "metadata": {},
   "source": [
    "**Data Description**\n",
    "You are given state-specific data on the relative frequency of given names in the population of U.S. births where the individual has a Social Security Number (Tabulated based on Social Security records as of March 6, 2022)\n",
    "\n",
    "For each of the 50 states and the District of Columbia we created a file called SC.txt, where SC is the state's postal abbreviation.\n",
    "\n",
    "*Each record in a file has the format: 2-digit state code, sex (M = male or F = female), 4-digit year of birth (starting with 1910), the 2-15 character name, and the number of occurrences of the name.* Fields are delimited with a comma. Each file is sorted first on sex, then year of birth, and then on number of occurrences in descending order. When there is a tie on the number of occurrences names are listed in alphabetical order. This sorting makes it easy to determine a name's rank. The first record for each sex & year of birth has rank 1, the second record has rank 2, and so forth.\n",
    "\n",
    "To safeguard privacy, we restrict our list of names to those with at least 5 occurrences. If a name has less than 5 occurrences for a year of birth in any state, the sum of the state counts for that year will be less than the national count."
   ]
  },
  {
   "cell_type": "code",
   "execution_count": 46,
   "id": "c891d270",
   "metadata": {},
   "outputs": [],
   "source": [
    "import pandas as pd\n",
    "import glob\n"
   ]
  },
  {
   "cell_type": "code",
   "execution_count": 47,
   "id": "755e03cb",
   "metadata": {},
   "outputs": [],
   "source": [
    "# Get a list of all the .txt files in the directory\n",
    "txt_files = glob.glob(\"datasets/*.TXT\")\n"
   ]
  },
  {
   "cell_type": "code",
   "execution_count": 48,
   "id": "d911b585",
   "metadata": {},
   "outputs": [],
   "source": [
    "#2-digit state code, \n",
    "#sex (M = male or F = female), \n",
    "#4-digit year of birth (starting with 1910), \n",
    "#the 2-15 character name, \n",
    "#and the number of occurrences of the name."
   ]
  },
  {
   "cell_type": "code",
   "execution_count": 49,
   "id": "69068402",
   "metadata": {},
   "outputs": [],
   "source": [
    "# Read each .txt file into a Pandas DataFrame\n",
    "dfs = []\n",
    "for file in txt_files:\n",
    "    df = pd.read_csv(file, names = [\"State\", \"Gender\", \"YOB\", \"Name\", \"Occurances\"] )\n",
    "    dfs.append(df)"
   ]
  },
  {
   "cell_type": "code",
   "execution_count": 50,
   "id": "b49fdd9b",
   "metadata": {},
   "outputs": [],
   "source": [
    "# Concatenate the DataFrames into a single DataFrame\n",
    "df = pd.concat(dfs)"
   ]
  },
  {
   "cell_type": "code",
   "execution_count": 51,
   "id": "d877880b",
   "metadata": {},
   "outputs": [
    {
     "data": {
      "text/html": [
       "<div>\n",
       "<style scoped>\n",
       "    .dataframe tbody tr th:only-of-type {\n",
       "        vertical-align: middle;\n",
       "    }\n",
       "\n",
       "    .dataframe tbody tr th {\n",
       "        vertical-align: top;\n",
       "    }\n",
       "\n",
       "    .dataframe thead th {\n",
       "        text-align: right;\n",
       "    }\n",
       "</style>\n",
       "<table border=\"1\" class=\"dataframe\">\n",
       "  <thead>\n",
       "    <tr style=\"text-align: right;\">\n",
       "      <th></th>\n",
       "      <th>State</th>\n",
       "      <th>Gender</th>\n",
       "      <th>YOB</th>\n",
       "      <th>Name</th>\n",
       "      <th>Occurances</th>\n",
       "    </tr>\n",
       "  </thead>\n",
       "  <tbody>\n",
       "    <tr>\n",
       "      <th>0</th>\n",
       "      <td>IN</td>\n",
       "      <td>F</td>\n",
       "      <td>1910</td>\n",
       "      <td>Mary</td>\n",
       "      <td>619</td>\n",
       "    </tr>\n",
       "    <tr>\n",
       "      <th>1</th>\n",
       "      <td>IN</td>\n",
       "      <td>F</td>\n",
       "      <td>1910</td>\n",
       "      <td>Helen</td>\n",
       "      <td>324</td>\n",
       "    </tr>\n",
       "    <tr>\n",
       "      <th>2</th>\n",
       "      <td>IN</td>\n",
       "      <td>F</td>\n",
       "      <td>1910</td>\n",
       "      <td>Ruth</td>\n",
       "      <td>238</td>\n",
       "    </tr>\n",
       "    <tr>\n",
       "      <th>3</th>\n",
       "      <td>IN</td>\n",
       "      <td>F</td>\n",
       "      <td>1910</td>\n",
       "      <td>Dorothy</td>\n",
       "      <td>215</td>\n",
       "    </tr>\n",
       "    <tr>\n",
       "      <th>4</th>\n",
       "      <td>IN</td>\n",
       "      <td>F</td>\n",
       "      <td>1910</td>\n",
       "      <td>Mildred</td>\n",
       "      <td>200</td>\n",
       "    </tr>\n",
       "  </tbody>\n",
       "</table>\n",
       "</div>"
      ],
      "text/plain": [
       "  State Gender   YOB     Name  Occurances\n",
       "0    IN      F  1910     Mary         619\n",
       "1    IN      F  1910    Helen         324\n",
       "2    IN      F  1910     Ruth         238\n",
       "3    IN      F  1910  Dorothy         215\n",
       "4    IN      F  1910  Mildred         200"
      ]
     },
     "execution_count": 51,
     "metadata": {},
     "output_type": "execute_result"
    }
   ],
   "source": [
    "df.head()"
   ]
  },
  {
   "cell_type": "code",
   "execution_count": 52,
   "id": "4fbbbc22",
   "metadata": {},
   "outputs": [
    {
     "data": {
      "text/plain": [
       "(6311504, 5)"
      ]
     },
     "execution_count": 52,
     "metadata": {},
     "output_type": "execute_result"
    }
   ],
   "source": [
    "df.shape"
   ]
  },
  {
   "cell_type": "code",
   "execution_count": 53,
   "id": "0bd1c0a6",
   "metadata": {},
   "outputs": [
    {
     "data": {
      "text/plain": [
       "array(['IN', 'IL', 'KS', 'SC', 'HI', 'GA', 'SD', 'CO', 'NH', 'MS', 'MD',\n",
       "       'UT', 'LA', 'ME', 'WI', 'NJ', 'AR', 'NY', 'MT', 'OK', 'MA', 'NM',\n",
       "       'WY', 'OH', 'OR', 'NV', 'TX', 'TN', 'AZ', 'MN', 'WA', 'WV', 'NC',\n",
       "       'MO', 'AL', 'VA', 'CA', 'CT', 'AK', 'ND', 'VT', 'MI', 'NE', 'KY',\n",
       "       'ID', 'DC', 'IA', 'FL', 'PA', 'RI', 'DE'], dtype=object)"
      ]
     },
     "execution_count": 53,
     "metadata": {},
     "output_type": "execute_result"
    }
   ],
   "source": [
    "#unique states\n",
    "states = df[\"State\"].unique()\n",
    "states"
   ]
  },
  {
   "cell_type": "code",
   "execution_count": 54,
   "id": "78eba576",
   "metadata": {},
   "outputs": [
    {
     "name": "stdout",
     "output_type": "stream",
     "text": [
      "51\n"
     ]
    }
   ],
   "source": [
    "total = sum(1 for i in states if i)\n",
    "print(total)"
   ]
  },
  {
   "cell_type": "code",
   "execution_count": 56,
   "id": "758a2b12",
   "metadata": {},
   "outputs": [
    {
     "name": "stdout",
     "output_type": "stream",
     "text": [
      "<class 'pandas.core.frame.DataFrame'>\n",
      "Int64Index: 6311504 entries, 0 to 33705\n",
      "Data columns (total 5 columns):\n",
      " #   Column      Dtype \n",
      "---  ------      ----- \n",
      " 0   State       object\n",
      " 1   Gender      object\n",
      " 2   YOB         int64 \n",
      " 3   Name        object\n",
      " 4   Occurances  int64 \n",
      "dtypes: int64(2), object(3)\n",
      "memory usage: 288.9+ MB\n"
     ]
    }
   ],
   "source": [
    "df.info()"
   ]
  },
  {
   "cell_type": "code",
   "execution_count": 60,
   "id": "60ac4df8",
   "metadata": {},
   "outputs": [
    {
     "data": {
      "text/plain": [
       "State         6311504\n",
       "Gender        6311504\n",
       "YOB           6311504\n",
       "Name          6311504\n",
       "Occurances    6311504\n",
       "dtype: int64"
      ]
     },
     "execution_count": 60,
     "metadata": {},
     "output_type": "execute_result"
    }
   ],
   "source": [
    "#identify incomplet rows\n",
    "df.count()"
   ]
  },
  {
   "cell_type": "code",
   "execution_count": 61,
   "id": "6cf85ffd",
   "metadata": {},
   "outputs": [
    {
     "data": {
      "text/plain": [
       "State         0\n",
       "Gender        0\n",
       "YOB           0\n",
       "Name          0\n",
       "Occurances    0\n",
       "dtype: int64"
      ]
     },
     "execution_count": 61,
     "metadata": {},
     "output_type": "execute_result"
    }
   ],
   "source": [
    "# Check for missing values\n",
    "missing_values = df.isna().sum()\n",
    "missing_values"
   ]
  },
  {
   "cell_type": "markdown",
   "id": "fedc65c8",
   "metadata": {},
   "source": [
    "**Descriptive analysis**\n",
    "\n",
    "Please describe the format of the data files. Can you identify any limitations or distortions of the data?\n",
    "What is the most popular name of all time? (Of either gender.)\n",
    "What is the most gender ambiguous name in 2013? 1945?\n",
    "Of the names represented in the data, find the name that has had the largest percentage increase in popularity since 1980. Largest decrease?\n",
    "Can you identify names that may have had an even larger increase or decrease in popularity?\n",
    "\n",
    "**Onward to Insight**\n",
    "\n",
    "What insight can you extract from this dataset? Feel free to combine the baby names data with other publicly available datasets or APIs, but be sure to include code for accessing any alternative data that you use.\n",
    "\n",
    "This is an open­ended question and you are free to answer as you see fit. In fact, we would love it if you find an interesting way to look at the data that we haven't thought of!\n",
    "\n",
    "Please provide us with both your code and an informative write­up of your results. The code should be in a runnable form. Do not assume that we have a copy of the data set or that we are familiar with the build procedures for your chosen language."
   ]
  },
  {
   "cell_type": "code",
   "execution_count": 63,
   "id": "83fa36e8",
   "metadata": {},
   "outputs": [
    {
     "data": {
      "text/plain": [
       "James        7409\n",
       "Leslie       7407\n",
       "Lee          7313\n",
       "John         7221\n",
       "Robert       7174\n",
       "             ... \n",
       "Charizma        1\n",
       "Maclean         1\n",
       "Haelee          1\n",
       "Isaid           1\n",
       "Ugochukwu       1\n",
       "Name: Name, Length: 32403, dtype: int64"
      ]
     },
     "execution_count": 63,
     "metadata": {},
     "output_type": "execute_result"
    }
   ],
   "source": [
    "#the most popular name of all time? \n",
    "df[\"Name\"].value_counts()"
   ]
  },
  {
   "cell_type": "code",
   "execution_count": 65,
   "id": "67cbb36a",
   "metadata": {},
   "outputs": [
    {
     "data": {
      "text/plain": [
       "2021"
      ]
     },
     "execution_count": 65,
     "metadata": {},
     "output_type": "execute_result"
    }
   ],
   "source": [
    "df[\"YOB\"].max()"
   ]
  },
  {
   "cell_type": "code",
   "execution_count": 66,
   "id": "d714971b",
   "metadata": {},
   "outputs": [
    {
     "data": {
      "text/plain": [
       "1910"
      ]
     },
     "execution_count": 66,
     "metadata": {},
     "output_type": "execute_result"
    }
   ],
   "source": [
    "df[\"YOB\"].min()"
   ]
  },
  {
   "cell_type": "code",
   "execution_count": null,
   "id": "bf2ac41f",
   "metadata": {},
   "outputs": [],
   "source": []
  }
 ],
 "metadata": {
  "kernelspec": {
   "display_name": "PythonData",
   "language": "python",
   "name": "pythondata"
  },
  "language_info": {
   "codemirror_mode": {
    "name": "ipython",
    "version": 3
   },
   "file_extension": ".py",
   "mimetype": "text/x-python",
   "name": "python",
   "nbconvert_exporter": "python",
   "pygments_lexer": "ipython3",
   "version": "3.7.7"
  }
 },
 "nbformat": 4,
 "nbformat_minor": 5
}
